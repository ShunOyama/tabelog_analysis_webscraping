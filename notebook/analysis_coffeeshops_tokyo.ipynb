{
 "cells": [
  {
   "cell_type": "code",
   "execution_count": 1,
   "id": "694b1013",
   "metadata": {},
   "outputs": [],
   "source": [
    "# import libraries \n",
    "\n",
    "import pandas as pd \n",
    "import numpy as np\n",
    "\n",
    "from bs4 import BeautifulSoup\n",
    "import requests\n",
    "import time\n",
    "import datetime\n",
    "\n",
    "import smtplib\n",
    "\n",
    "import matplotlib.pyplot as plt \n",
    "import japanize_matplotlib\n",
    "import seaborn as sns\n",
    "\n",
    "import geocoder\n",
    "\n",
    "import warnings\n",
    "warnings.filterwarnings('ignore')\n",
    "\n",
    "pd.set_option('display.max_rows', None)"
   ]
  },
  {
   "cell_type": "markdown",
   "id": "3b88488e",
   "metadata": {},
   "source": [
    "# Get Data from tabelog (Japanese Yelp)with Webscraping(BeautifulSoup)"
   ]
  },
  {
   "cell_type": "code",
   "execution_count": 2,
   "id": "243c34e9",
   "metadata": {
    "scrolled": false
   },
   "outputs": [
    {
     "data": {
      "text/html": [
       "<div>\n",
       "<style scoped>\n",
       "    .dataframe tbody tr th:only-of-type {\n",
       "        vertical-align: middle;\n",
       "    }\n",
       "\n",
       "    .dataframe tbody tr th {\n",
       "        vertical-align: top;\n",
       "    }\n",
       "\n",
       "    .dataframe thead th {\n",
       "        text-align: right;\n",
       "    }\n",
       "</style>\n",
       "<table border=\"1\" class=\"dataframe\">\n",
       "  <thead>\n",
       "    <tr style=\"text-align: right;\">\n",
       "      <th></th>\n",
       "      <th>name</th>\n",
       "      <th>station</th>\n",
       "      <th>distance_m</th>\n",
       "      <th>genre</th>\n",
       "      <th>rate</th>\n",
       "      <th>n_comments</th>\n",
       "      <th>n_saved</th>\n",
       "    </tr>\n",
       "  </thead>\n",
       "  <tbody>\n",
       "    <tr>\n",
       "      <th>0</th>\n",
       "      <td>カフェ・ド・ランブル</td>\n",
       "      <td>新橋駅</td>\n",
       "      <td>409.0</td>\n",
       "      <td>喫茶店、                               コーヒー専門店</td>\n",
       "      <td>3.75</td>\n",
       "      <td>687</td>\n",
       "      <td>32070</td>\n",
       "    </tr>\n",
       "    <tr>\n",
       "      <th>1</th>\n",
       "      <td>タイズ</td>\n",
       "      <td>本郷三丁目駅</td>\n",
       "      <td>368.0</td>\n",
       "      <td>喫茶店、                               コーヒー専門店    ...</td>\n",
       "      <td>3.75</td>\n",
       "      <td>435</td>\n",
       "      <td>25801</td>\n",
       "    </tr>\n",
       "    <tr>\n",
       "      <th>2</th>\n",
       "      <td>自家焙煎珈琲みじんこ</td>\n",
       "      <td>湯島駅</td>\n",
       "      <td>440.0</td>\n",
       "      <td>カフェ、                               コーヒー専門店    ...</td>\n",
       "      <td>3.74</td>\n",
       "      <td>840</td>\n",
       "      <td>50880</td>\n",
       "    </tr>\n",
       "    <tr>\n",
       "      <th>3</th>\n",
       "      <td>茶亭 羽當</td>\n",
       "      <td>渋谷駅</td>\n",
       "      <td>268.0</td>\n",
       "      <td>喫茶店、                               コーヒー専門店    ...</td>\n",
       "      <td>3.74</td>\n",
       "      <td>1024</td>\n",
       "      <td>55142</td>\n",
       "    </tr>\n",
       "    <tr>\n",
       "      <th>4</th>\n",
       "      <td>十一房珈琲店</td>\n",
       "      <td>銀座一丁目駅</td>\n",
       "      <td>141.0</td>\n",
       "      <td>喫茶店、                               コーヒー専門店    ...</td>\n",
       "      <td>3.73</td>\n",
       "      <td>574</td>\n",
       "      <td>20339</td>\n",
       "    </tr>\n",
       "  </tbody>\n",
       "</table>\n",
       "</div>"
      ],
      "text/plain": [
       "                                        name station  distance_m  \\\n",
       "0                  カフェ・ド・ランブル                    新橋駅       409.0   \n",
       "1                         タイズ                 本郷三丁目駅       368.0   \n",
       "2                  自家焙煎珈琲みじんこ                    湯島駅       440.0   \n",
       "3                       茶亭 羽當                    渋谷駅       268.0   \n",
       "4                      十一房珈琲店                 銀座一丁目駅       141.0   \n",
       "\n",
       "                                               genre  rate  n_comments  \\\n",
       "0         喫茶店、                               コーヒー専門店  3.75         687   \n",
       "1  喫茶店、                               コーヒー専門店    ...  3.75         435   \n",
       "2  カフェ、                               コーヒー専門店    ...  3.74         840   \n",
       "3  喫茶店、                               コーヒー専門店    ...  3.74        1024   \n",
       "4  喫茶店、                               コーヒー専門店    ...  3.73         574   \n",
       "\n",
       "   n_saved  \n",
       "0    32070  \n",
       "1    25801  \n",
       "2    50880  \n",
       "3    55142  \n",
       "4    20339  "
      ]
     },
     "execution_count": 2,
     "metadata": {},
     "output_type": "execute_result"
    }
   ],
   "source": [
    "# Connect to Website and pull in data\n",
    "def get_current_page_info(page_idx):\n",
    "\n",
    "    URL = f'https://tabelog.com/keywords/%E3%82%B9%E3%83%9A%E3%82%B7%E3%83%A3%E3%83%AA%E3%83%86%E3%82%A3%E3%82%B3%E3%83%BC%E3%83%92%E3%83%BC/tokyo/kwdLst/CC03/{page_idx}/?srchTg=2'\n",
    "    headers = {\"User-Agent\": \"Mozilla/5.0 (Windows NT 10.0; Win64; x64) AppleWebKit/537.36 (KHTML, like Gecko) Chrome/78.0.3904.108 Safari/537.36\", \"Accept-Encoding\":\"gzip, deflate\", \"Accept\":\"text/html,application/xhtml+xml,application/xml;q=0.9,*/*;q=0.8\", \"DNT\":\"1\",\"Connection\":\"close\", \"Upgrade-Insecure-Requests\":\"1\"}\n",
    "\n",
    "    page = requests.get(URL, headers=headers, verify=False)\n",
    "\n",
    "    soup = BeautifulSoup(page.content, \"html.parser\")\n",
    "    soup = BeautifulSoup(soup.prettify(), \"html.parser\")\n",
    "\n",
    "    shop_name_list = soup.select(\"[class='list-rst__rst-name-target cpy-rst-name']\")\n",
    "    area_genre_list = soup.select(\"[class='list-rst__area-genre cpy-area-genre']\")\n",
    "    rating_list = soup.select(\"[class='c-rating__val c-rating__val--strong list-rst__rating-val']\")\n",
    "    n_comments_list = soup.select(\"[class='list-rst__rvw-count-target']\")\n",
    "    n_saved_list = soup.select(\"[class='list-rst__save-count-num u-text-num']\")\n",
    "\n",
    "\n",
    "    cafe_dic_list = []\n",
    "    for shop_name, area_genre, rating, n_comments, n_saved  in zip(shop_name_list, area_genre_list, rating_list, n_comments_list, n_saved_list):        \n",
    "        \n",
    "        shop = shop_name.get_text()\n",
    "        area = area_genre.get_text().split('/')[0].strip()\n",
    "        \n",
    "        try:\n",
    "            station = area.split(' ')[0]\n",
    "            distance = int(area.split(' ')[-1].replace('m', ''))\n",
    "        except:\n",
    "            station = area\n",
    "            distance = np.nan\n",
    "            \n",
    "        genre = area_genre.get_text().split('/')[-1].strip()\n",
    "        rate = float(rating.get_text())\n",
    "        n_comm = n_comments.get_text() \n",
    "        n_save = n_saved.get_text()\n",
    "\n",
    "        temp_dic = {'name': shop,\n",
    "                    'station': station, \n",
    "                    'distance_m': distance,\n",
    "                    'genre': genre, \n",
    "                    'rate': rate, \n",
    "                    'n_comments': n_comm.replace('件', '').strip(), \n",
    "                    'n_saved': n_save\n",
    "                    }\n",
    "\n",
    "        cafe_dic_list.append(temp_dic)\n",
    "\n",
    "\n",
    "    sub_cafe_df = pd.DataFrame(cafe_dic_list)\n",
    "    sub_cafe_df = sub_cafe_df.replace(r'\\n',' ', regex=True) \n",
    "    \n",
    "    sub_cafe_df['n_comments'] = sub_cafe_df['n_comments'].astype(int)\n",
    "    sub_cafe_df['n_saved'] = sub_cafe_df['n_saved'].astype(int)\n",
    "    \n",
    "    return sub_cafe_df\n",
    "\n",
    "def get_coffeeshops_data():\n",
    "    page_indices = range(1, 11)\n",
    "    \n",
    "    cafe_df = pd.concat([get_current_page_info(idx) for idx in page_indices])\n",
    "    cafe_df = cafe_df.sort_values(by=['rate'], ascending=False).reset_index(drop=True)\n",
    "    \n",
    "    return cafe_df\n",
    "\n",
    "\n",
    "full_cafe_df = get_coffeeshops_data()\n",
    "full_cafe_df.head()\n",
    "         \n"
   ]
  },
  {
   "cell_type": "markdown",
   "id": "bb4eb369",
   "metadata": {},
   "source": [
    "# See popular coffee shops in Tokyo"
   ]
  },
  {
   "cell_type": "markdown",
   "id": "2b7be388",
   "metadata": {},
   "source": [
    "### By coffee shop"
   ]
  },
  {
   "cell_type": "code",
   "execution_count": 3,
   "id": "e751396d",
   "metadata": {},
   "outputs": [
    {
     "data": {
      "text/plain": [
       "<AxesSubplot:xlabel='rate', ylabel='name'>"
      ]
     },
     "execution_count": 3,
     "metadata": {},
     "output_type": "execute_result"
    },
    {
     "data": {
      "image/png": "[encoded data removed]",
      "text/plain": [
       "<Figure size 936x432 with 1 Axes>"
      ]
     },
     "metadata": {
      "needs_background": "light"
     },
     "output_type": "display_data"
    }
   ],
   "source": [
    "n_top = 30\n",
    "plt.figure(figsize=(13, 6))\n",
    "sns.barplot(x = 'rate', y = 'name', data = full_cafe_df.head(n_top))"
   ]
  },
  {
   "cell_type": "markdown",
   "id": "f416c731",
   "metadata": {},
   "source": [
    "### By Station"
   ]
  },
  {
   "cell_type": "code",
   "execution_count": 4,
   "id": "8e93a992",
   "metadata": {
    "scrolled": false
   },
   "outputs": [
    {
     "data": {
      "text/plain": [
       "<AxesSubplot:xlabel='station'>"
      ]
     },
     "execution_count": 4,
     "metadata": {},
     "output_type": "execute_result"
    },
    {
     "data": {
      "image/png": "[encoded data removed]",
      "text/plain": [
       "<Figure size 1008x432 with 1 Axes>"
      ]
     },
     "metadata": {
      "needs_background": "light"
     },
     "output_type": "display_data"
    }
   ],
   "source": [
    "station_counts = full_cafe_df['station'].value_counts().to_frame().head(20)\n",
    "plt.figure(figsize=(14, 6))\n",
    "sns.barplot(x = station_counts.station, y = station_counts.index, data = station_counts)"
   ]
  },
  {
   "cell_type": "markdown",
   "id": "6538b4a8",
   "metadata": {},
   "source": [
    "Observations<br>\n",
    "<li>It seems Jimbocho(神保町) has the most number of popular coffee shops in Tokyo followed by　Shibuya(渋谷) and Harajuku（原宿）. Shibuya and Harajuku are next to each other so I would recommend to go there if you have very short time to explore coffee shops in Tokyo. </li>"
   ]
  },
  {
   "cell_type": "markdown",
   "id": "bd8f71fb",
   "metadata": {},
   "source": [
    "# Analysis between Kissaten(Traditional Japanese Style Coffee shop) and Modern Coffee shop<br>\n",
    "When I see column genre and name, it seems coffee shops can be categorized into 2<br>\n",
    "<li>Kissaten - 喫茶店 --> Traditional Japanese Style Coffee shops</li>\n",
    "<li>Modern Coffee shop --> Modern Coffee shops which are not fully traditional japanese style and somehow inspired by coffee shops in overseas. Specially Coffee shops are also included in this category.</li>"
   ]
  },
  {
   "cell_type": "code",
   "execution_count": 5,
   "id": "8e018acb",
   "metadata": {},
   "outputs": [],
   "source": [
    "# Filter only coffeeshops specilized in coffee 'コーヒー専門店'\n",
    "cafe_df = full_cafe_df[full_cafe_df['genre'].str.contains('コーヒー専門店')]\n",
    "\n",
    "# Filter Kissaten\n",
    "kistn_df = cafe_df[cafe_df['genre'].str.contains('喫茶店')]\n",
    "\n",
    "# Filter Other coffeeshop\n",
    "mdn_df = cafe_df[~cafe_df['genre'].str.contains('喫茶店')]"
   ]
  },
  {
   "cell_type": "markdown",
   "id": "cf460d41",
   "metadata": {},
   "source": [
    "### See Ratio between categories"
   ]
  },
  {
   "cell_type": "code",
   "execution_count": 6,
   "id": "16e821a4",
   "metadata": {},
   "outputs": [
    {
     "data": {
      "image/png": "[encoded data removed]",
      "text/plain": [
       "<Figure size 432x288 with 1 Axes>"
      ]
     },
     "metadata": {},
     "output_type": "display_data"
    }
   ],
   "source": [
    "plt.pie([len(kistn_df), len(mdn_df)], labels = ['kissaten', 'modern cafe'], autopct='%.0f%%')\n",
    "plt.text(0, 0, '').remove()"
   ]
  },
  {
   "cell_type": "markdown",
   "id": "2c4b8525",
   "metadata": {},
   "source": [
    "Observations<br>\n",
    "<li>Modern Cafe is majority</li>"
   ]
  },
  {
   "cell_type": "markdown",
   "id": "03147589",
   "metadata": {},
   "source": [
    "### See which category is more popular "
   ]
  },
  {
   "cell_type": "code",
   "execution_count": 7,
   "id": "f6418edf",
   "metadata": {
    "scrolled": false
   },
   "outputs": [
    {
     "data": {
      "image/png": "[encoded data removed]",
      "text/plain": [
       "<Figure size 288x144 with 1 Axes>"
      ]
     },
     "metadata": {
      "needs_background": "light"
     },
     "output_type": "display_data"
    }
   ],
   "source": [
    "plt.figure(figsize=(4, 2))\n",
    "sns.barplot(x = ['kissaten', 'modern'], \n",
    "            y = [kistn_df['rate'].mean(), mdn_df['rate'].mean()])\n",
    "plt.text(0, 0, '').remove()"
   ]
  },
  {
   "cell_type": "markdown",
   "id": "647df817",
   "metadata": {},
   "source": [
    "Observations<br>\n",
    "<li>Looks like 'kissaten' is slightly more popular</li>"
   ]
  },
  {
   "cell_type": "markdown",
   "id": "c1b5107a",
   "metadata": {},
   "source": [
    "### See top coffee shops in each category"
   ]
  },
  {
   "cell_type": "code",
   "execution_count": 8,
   "id": "d2f31bd9",
   "metadata": {
    "scrolled": true
   },
   "outputs": [
    {
     "data": {
      "image/png": "[encoded data removed]",
      "text/plain": [
       "<Figure size 576x144 with 1 Axes>"
      ]
     },
     "metadata": {
      "needs_background": "light"
     },
     "output_type": "display_data"
    }
   ],
   "source": [
    "n_top = 10\n",
    "plt.figure(figsize=(8, 2))\n",
    "sns.barplot(x = 'rate', y = 'name', data = kistn_df.head(n_top))\n",
    "plt.title(f'Kissaten top {n_top}')\n",
    "plt.text(0, 0, '').remove()"
   ]
  },
  {
   "cell_type": "code",
   "execution_count": 9,
   "id": "677a6eae",
   "metadata": {},
   "outputs": [
    {
     "data": {
      "image/png": "[encoded data removed]",
      "text/plain": [
       "<Figure size 576x144 with 1 Axes>"
      ]
     },
     "metadata": {
      "needs_background": "light"
     },
     "output_type": "display_data"
    }
   ],
   "source": [
    "n_top = 10\n",
    "plt.figure(figsize=(8, 2))\n",
    "sns.barplot(x = 'rate', y = 'name', data = mdn_df.head(n_top))\n",
    "plt.title(f'Modern Cafe top {n_top}')\n",
    "plt.text(0, 0, '').remove()"
   ]
  },
  {
   "cell_type": "code",
   "execution_count": 10,
   "id": "ab23c548",
   "metadata": {},
   "outputs": [
    {
     "name": "stdout",
     "output_type": "stream",
     "text": [
      "[35.6959719, 139.7583937]\n",
      "神保町, 靖国通り, 神田神保町一丁目, 神田神保町, 千代田区, 東京都, 101-0051, 日本\n"
     ]
    }
   ],
   "source": [
    "import geocoder\n",
    "location = '神保町駅'\n",
    "ret = geocoder.osm(location, timeout=5.0)\n",
    "print(ret.latlng)\n",
    "print(ret.address)"
   ]
  },
  {
   "cell_type": "code",
   "execution_count": 11,
   "id": "4041f602",
   "metadata": {},
   "outputs": [
    {
     "data": {
      "text/html": [
       "<div>\n",
       "<style scoped>\n",
       "    .dataframe tbody tr th:only-of-type {\n",
       "        vertical-align: middle;\n",
       "    }\n",
       "\n",
       "    .dataframe tbody tr th {\n",
       "        vertical-align: top;\n",
       "    }\n",
       "\n",
       "    .dataframe thead th {\n",
       "        text-align: right;\n",
       "    }\n",
       "</style>\n",
       "<table border=\"1\" class=\"dataframe\">\n",
       "  <thead>\n",
       "    <tr style=\"text-align: right;\">\n",
       "      <th></th>\n",
       "      <th>station</th>\n",
       "    </tr>\n",
       "  </thead>\n",
       "  <tbody>\n",
       "    <tr>\n",
       "      <th>神保町駅</th>\n",
       "      <td>6</td>\n",
       "    </tr>\n",
       "    <tr>\n",
       "      <th>渋谷駅</th>\n",
       "      <td>5</td>\n",
       "    </tr>\n",
       "    <tr>\n",
       "      <th>表参道駅</th>\n",
       "      <td>4</td>\n",
       "    </tr>\n",
       "    <tr>\n",
       "      <th>吉祥寺駅</th>\n",
       "      <td>4</td>\n",
       "    </tr>\n",
       "    <tr>\n",
       "      <th>池袋駅</th>\n",
       "      <td>4</td>\n",
       "    </tr>\n",
       "    <tr>\n",
       "      <th>中目黒駅</th>\n",
       "      <td>4</td>\n",
       "    </tr>\n",
       "    <tr>\n",
       "      <th>銀座駅</th>\n",
       "      <td>4</td>\n",
       "    </tr>\n",
       "    <tr>\n",
       "      <th>明治神宮前駅</th>\n",
       "      <td>3</td>\n",
       "    </tr>\n",
       "    <tr>\n",
       "      <th>自由が丘駅</th>\n",
       "      <td>3</td>\n",
       "    </tr>\n",
       "    <tr>\n",
       "      <th>本郷三丁目駅</th>\n",
       "      <td>3</td>\n",
       "    </tr>\n",
       "    <tr>\n",
       "      <th>新宿三丁目駅</th>\n",
       "      <td>3</td>\n",
       "    </tr>\n",
       "    <tr>\n",
       "      <th>下北沢駅</th>\n",
       "      <td>3</td>\n",
       "    </tr>\n",
       "    <tr>\n",
       "      <th>清澄白河駅</th>\n",
       "      <td>3</td>\n",
       "    </tr>\n",
       "    <tr>\n",
       "      <th>新宿御苑前駅</th>\n",
       "      <td>3</td>\n",
       "    </tr>\n",
       "    <tr>\n",
       "      <th>広尾駅</th>\n",
       "      <td>3</td>\n",
       "    </tr>\n",
       "    <tr>\n",
       "      <th>代々木上原駅</th>\n",
       "      <td>3</td>\n",
       "    </tr>\n",
       "    <tr>\n",
       "      <th>代官山駅</th>\n",
       "      <td>3</td>\n",
       "    </tr>\n",
       "    <tr>\n",
       "      <th>恵比寿駅</th>\n",
       "      <td>2</td>\n",
       "    </tr>\n",
       "    <tr>\n",
       "      <th>門前仲町駅</th>\n",
       "      <td>2</td>\n",
       "    </tr>\n",
       "    <tr>\n",
       "      <th>木場駅</th>\n",
       "      <td>2</td>\n",
       "    </tr>\n",
       "  </tbody>\n",
       "</table>\n",
       "</div>"
      ],
      "text/plain": [
       "        station\n",
       "神保町駅          6\n",
       "渋谷駅           5\n",
       "表参道駅          4\n",
       "吉祥寺駅          4\n",
       "池袋駅           4\n",
       "中目黒駅          4\n",
       "銀座駅           4\n",
       "明治神宮前駅        3\n",
       "自由が丘駅         3\n",
       "本郷三丁目駅        3\n",
       "新宿三丁目駅        3\n",
       "下北沢駅          3\n",
       "清澄白河駅         3\n",
       "新宿御苑前駅        3\n",
       "広尾駅           3\n",
       "代々木上原駅        3\n",
       "代官山駅          3\n",
       "恵比寿駅          2\n",
       "門前仲町駅         2\n",
       "木場駅           2"
      ]
     },
     "execution_count": 11,
     "metadata": {},
     "output_type": "execute_result"
    }
   ],
   "source": [
    "station_counts"
   ]
  },
  {
   "cell_type": "code",
   "execution_count": null,
   "id": "0510f5e2",
   "metadata": {},
   "outputs": [],
   "source": []
  }
 ],
 "metadata": {
  "kernelspec": {
   "display_name": "Python 3 (ipykernel)",
   "language": "python",
   "name": "python3"
  },
  "language_info": {
   "codemirror_mode": {
    "name": "ipython",
    "version": 3
   },
   "file_extension": ".py",
   "mimetype": "text/x-python",
   "name": "python",
   "nbconvert_exporter": "python",
   "pygments_lexer": "ipython3",
   "version": "3.9.7"
  }
 },
 "nbformat": 4,
 "nbformat_minor": 5
}
